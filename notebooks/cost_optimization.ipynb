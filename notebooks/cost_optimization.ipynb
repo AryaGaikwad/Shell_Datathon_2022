{
  "cells": [
    {
      "cell_type": "code",
      "execution_count": 32,
      "metadata": {
        "id": "OZLSgxLrLQEk"
      },
      "outputs": [],
      "source": [
        "import pandas as pd\n",
        "import numpy as np\n",
        "import matplotlib.pyplot as plt"
      ]
    },
    {
      "cell_type": "code",
      "execution_count": 33,
      "metadata": {
        "colab": {
          "base_uri": "https://localhost:8080/",
          "height": 468
        },
        "id": "_UHXeQAKLZl5",
        "outputId": "6193570d-8141-40e5-da18-a2bd7a5ddc56"
      },
      "outputs": [
        {
          "data": {
            "text/html": [
              "<div>\n",
              "<style scoped>\n",
              "    .dataframe tbody tr th:only-of-type {\n",
              "        vertical-align: middle;\n",
              "    }\n",
              "\n",
              "    .dataframe tbody tr th {\n",
              "        vertical-align: top;\n",
              "    }\n",
              "\n",
              "    .dataframe thead th {\n",
              "        text-align: right;\n",
              "    }\n",
              "</style>\n",
              "<table border=\"1\" class=\"dataframe\">\n",
              "  <thead>\n",
              "    <tr style=\"text-align: right;\">\n",
              "      <th></th>\n",
              "      <th>demand_point_index</th>\n",
              "      <th>x_coordinate</th>\n",
              "      <th>y_coordinate</th>\n",
              "      <th>2010</th>\n",
              "      <th>2011</th>\n",
              "      <th>2012</th>\n",
              "      <th>2013</th>\n",
              "      <th>2014</th>\n",
              "      <th>2015</th>\n",
              "      <th>2016</th>\n",
              "      <th>2017</th>\n",
              "      <th>2018</th>\n",
              "    </tr>\n",
              "  </thead>\n",
              "  <tbody>\n",
              "    <tr>\n",
              "      <th>0</th>\n",
              "      <td>0</td>\n",
              "      <td>0.5</td>\n",
              "      <td>0.5</td>\n",
              "      <td>0.352242</td>\n",
              "      <td>0.667932</td>\n",
              "      <td>0.958593</td>\n",
              "      <td>2.911901</td>\n",
              "      <td>4.338274</td>\n",
              "      <td>6.561995</td>\n",
              "      <td>8.454417</td>\n",
              "      <td>10.595324</td>\n",
              "      <td>13.119572</td>\n",
              "    </tr>\n",
              "    <tr>\n",
              "      <th>1</th>\n",
              "      <td>1</td>\n",
              "      <td>1.5</td>\n",
              "      <td>0.5</td>\n",
              "      <td>0.325940</td>\n",
              "      <td>0.591964</td>\n",
              "      <td>0.862652</td>\n",
              "      <td>2.589068</td>\n",
              "      <td>4.196034</td>\n",
              "      <td>5.745551</td>\n",
              "      <td>8.753195</td>\n",
              "      <td>11.126995</td>\n",
              "      <td>12.020091</td>\n",
              "    </tr>\n",
              "    <tr>\n",
              "      <th>2</th>\n",
              "      <td>2</td>\n",
              "      <td>2.5</td>\n",
              "      <td>0.5</td>\n",
              "      <td>0.373752</td>\n",
              "      <td>0.591890</td>\n",
              "      <td>0.969733</td>\n",
              "      <td>2.641432</td>\n",
              "      <td>3.541772</td>\n",
              "      <td>5.469161</td>\n",
              "      <td>8.414627</td>\n",
              "      <td>10.115336</td>\n",
              "      <td>14.018254</td>\n",
              "    </tr>\n",
              "    <tr>\n",
              "      <th>3</th>\n",
              "      <td>3</td>\n",
              "      <td>3.5</td>\n",
              "      <td>0.5</td>\n",
              "      <td>0.420686</td>\n",
              "      <td>0.584055</td>\n",
              "      <td>0.906547</td>\n",
              "      <td>2.378577</td>\n",
              "      <td>3.888121</td>\n",
              "      <td>5.846089</td>\n",
              "      <td>9.083868</td>\n",
              "      <td>12.424885</td>\n",
              "      <td>15.012302</td>\n",
              "    </tr>\n",
              "    <tr>\n",
              "      <th>4</th>\n",
              "      <td>4</td>\n",
              "      <td>4.5</td>\n",
              "      <td>0.5</td>\n",
              "      <td>0.475621</td>\n",
              "      <td>0.647940</td>\n",
              "      <td>0.981544</td>\n",
              "      <td>2.665400</td>\n",
              "      <td>4.218711</td>\n",
              "      <td>6.776609</td>\n",
              "      <td>8.851107</td>\n",
              "      <td>11.731131</td>\n",
              "      <td>16.355563</td>\n",
              "    </tr>\n",
              "    <tr>\n",
              "      <th>...</th>\n",
              "      <td>...</td>\n",
              "      <td>...</td>\n",
              "      <td>...</td>\n",
              "      <td>...</td>\n",
              "      <td>...</td>\n",
              "      <td>...</td>\n",
              "      <td>...</td>\n",
              "      <td>...</td>\n",
              "      <td>...</td>\n",
              "      <td>...</td>\n",
              "      <td>...</td>\n",
              "      <td>...</td>\n",
              "    </tr>\n",
              "    <tr>\n",
              "      <th>4091</th>\n",
              "      <td>4091</td>\n",
              "      <td>59.5</td>\n",
              "      <td>63.5</td>\n",
              "      <td>0.171015</td>\n",
              "      <td>0.334565</td>\n",
              "      <td>0.556055</td>\n",
              "      <td>1.373291</td>\n",
              "      <td>1.837586</td>\n",
              "      <td>2.517146</td>\n",
              "      <td>3.352280</td>\n",
              "      <td>4.149888</td>\n",
              "      <td>5.426193</td>\n",
              "    </tr>\n",
              "    <tr>\n",
              "      <th>4092</th>\n",
              "      <td>4092</td>\n",
              "      <td>60.5</td>\n",
              "      <td>63.5</td>\n",
              "      <td>0.041716</td>\n",
              "      <td>0.061741</td>\n",
              "      <td>0.131291</td>\n",
              "      <td>0.386540</td>\n",
              "      <td>0.755846</td>\n",
              "      <td>0.941116</td>\n",
              "      <td>1.107797</td>\n",
              "      <td>1.309479</td>\n",
              "      <td>2.057450</td>\n",
              "    </tr>\n",
              "    <tr>\n",
              "      <th>4093</th>\n",
              "      <td>4093</td>\n",
              "      <td>61.5</td>\n",
              "      <td>63.5</td>\n",
              "      <td>0.100895</td>\n",
              "      <td>0.180352</td>\n",
              "      <td>0.296299</td>\n",
              "      <td>0.705373</td>\n",
              "      <td>1.300220</td>\n",
              "      <td>1.608609</td>\n",
              "      <td>1.822806</td>\n",
              "      <td>2.333681</td>\n",
              "      <td>3.218519</td>\n",
              "    </tr>\n",
              "    <tr>\n",
              "      <th>4094</th>\n",
              "      <td>4094</td>\n",
              "      <td>62.5</td>\n",
              "      <td>63.5</td>\n",
              "      <td>0.155353</td>\n",
              "      <td>0.290825</td>\n",
              "      <td>0.557803</td>\n",
              "      <td>1.516066</td>\n",
              "      <td>2.399426</td>\n",
              "      <td>2.719197</td>\n",
              "      <td>4.494515</td>\n",
              "      <td>6.096858</td>\n",
              "      <td>6.262574</td>\n",
              "    </tr>\n",
              "    <tr>\n",
              "      <th>4095</th>\n",
              "      <td>4095</td>\n",
              "      <td>63.5</td>\n",
              "      <td>63.5</td>\n",
              "      <td>0.209372</td>\n",
              "      <td>0.340185</td>\n",
              "      <td>0.749491</td>\n",
              "      <td>1.904285</td>\n",
              "      <td>2.775772</td>\n",
              "      <td>3.404641</td>\n",
              "      <td>4.574922</td>\n",
              "      <td>6.301078</td>\n",
              "      <td>6.860939</td>\n",
              "    </tr>\n",
              "  </tbody>\n",
              "</table>\n",
              "<p>4096 rows × 12 columns</p>\n",
              "</div>"
            ],
            "text/plain": [
              "      demand_point_index  x_coordinate  y_coordinate      2010      2011  \\\n",
              "0                      0           0.5           0.5  0.352242  0.667932   \n",
              "1                      1           1.5           0.5  0.325940  0.591964   \n",
              "2                      2           2.5           0.5  0.373752  0.591890   \n",
              "3                      3           3.5           0.5  0.420686  0.584055   \n",
              "4                      4           4.5           0.5  0.475621  0.647940   \n",
              "...                  ...           ...           ...       ...       ...   \n",
              "4091                4091          59.5          63.5  0.171015  0.334565   \n",
              "4092                4092          60.5          63.5  0.041716  0.061741   \n",
              "4093                4093          61.5          63.5  0.100895  0.180352   \n",
              "4094                4094          62.5          63.5  0.155353  0.290825   \n",
              "4095                4095          63.5          63.5  0.209372  0.340185   \n",
              "\n",
              "          2012      2013      2014      2015      2016       2017       2018  \n",
              "0     0.958593  2.911901  4.338274  6.561995  8.454417  10.595324  13.119572  \n",
              "1     0.862652  2.589068  4.196034  5.745551  8.753195  11.126995  12.020091  \n",
              "2     0.969733  2.641432  3.541772  5.469161  8.414627  10.115336  14.018254  \n",
              "3     0.906547  2.378577  3.888121  5.846089  9.083868  12.424885  15.012302  \n",
              "4     0.981544  2.665400  4.218711  6.776609  8.851107  11.731131  16.355563  \n",
              "...        ...       ...       ...       ...       ...        ...        ...  \n",
              "4091  0.556055  1.373291  1.837586  2.517146  3.352280   4.149888   5.426193  \n",
              "4092  0.131291  0.386540  0.755846  0.941116  1.107797   1.309479   2.057450  \n",
              "4093  0.296299  0.705373  1.300220  1.608609  1.822806   2.333681   3.218519  \n",
              "4094  0.557803  1.516066  2.399426  2.719197  4.494515   6.096858   6.262574  \n",
              "4095  0.749491  1.904285  2.775772  3.404641  4.574922   6.301078   6.860939  \n",
              "\n",
              "[4096 rows x 12 columns]"
            ]
          },
          "execution_count": 33,
          "metadata": {},
          "output_type": "execute_result"
        }
      ],
      "source": [
        "df = pd.read_csv('D:/shell hackathon 2022 github/Shell_Datathon_2022/data/Demand_History.csv')\n",
        "df"
      ]
    },
    {
      "cell_type": "code",
      "execution_count": 34,
      "metadata": {},
      "outputs": [
        {
          "data": {
            "text/html": [
              "<div>\n",
              "<style scoped>\n",
              "    .dataframe tbody tr th:only-of-type {\n",
              "        vertical-align: middle;\n",
              "    }\n",
              "\n",
              "    .dataframe tbody tr th {\n",
              "        vertical-align: top;\n",
              "    }\n",
              "\n",
              "    .dataframe thead th {\n",
              "        text-align: right;\n",
              "    }\n",
              "</style>\n",
              "<table border=\"1\" class=\"dataframe\">\n",
              "  <thead>\n",
              "    <tr style=\"text-align: right;\">\n",
              "      <th></th>\n",
              "      <th>supply_point_index</th>\n",
              "      <th>x_coordinate</th>\n",
              "      <th>y_coordinate</th>\n",
              "      <th>total_parking_slots</th>\n",
              "      <th>existing_num_SCS</th>\n",
              "      <th>existing_num_FCS</th>\n",
              "    </tr>\n",
              "  </thead>\n",
              "  <tbody>\n",
              "    <tr>\n",
              "      <th>0</th>\n",
              "      <td>0</td>\n",
              "      <td>50.163110</td>\n",
              "      <td>19.412014</td>\n",
              "      <td>23</td>\n",
              "      <td>5</td>\n",
              "      <td>3</td>\n",
              "    </tr>\n",
              "    <tr>\n",
              "      <th>1</th>\n",
              "      <td>1</td>\n",
              "      <td>37.336451</td>\n",
              "      <td>58.119225</td>\n",
              "      <td>27</td>\n",
              "      <td>4</td>\n",
              "      <td>7</td>\n",
              "    </tr>\n",
              "    <tr>\n",
              "      <th>2</th>\n",
              "      <td>2</td>\n",
              "      <td>46.709232</td>\n",
              "      <td>57.525650</td>\n",
              "      <td>31</td>\n",
              "      <td>6</td>\n",
              "      <td>14</td>\n",
              "    </tr>\n",
              "    <tr>\n",
              "      <th>3</th>\n",
              "      <td>3</td>\n",
              "      <td>30.528626</td>\n",
              "      <td>55.379835</td>\n",
              "      <td>26</td>\n",
              "      <td>5</td>\n",
              "      <td>5</td>\n",
              "    </tr>\n",
              "    <tr>\n",
              "      <th>4</th>\n",
              "      <td>4</td>\n",
              "      <td>51.521781</td>\n",
              "      <td>35.116755</td>\n",
              "      <td>32</td>\n",
              "      <td>11</td>\n",
              "      <td>6</td>\n",
              "    </tr>\n",
              "    <tr>\n",
              "      <th>...</th>\n",
              "      <td>...</td>\n",
              "      <td>...</td>\n",
              "      <td>...</td>\n",
              "      <td>...</td>\n",
              "      <td>...</td>\n",
              "      <td>...</td>\n",
              "    </tr>\n",
              "    <tr>\n",
              "      <th>95</th>\n",
              "      <td>95</td>\n",
              "      <td>45.471204</td>\n",
              "      <td>20.999414</td>\n",
              "      <td>24</td>\n",
              "      <td>3</td>\n",
              "      <td>4</td>\n",
              "    </tr>\n",
              "    <tr>\n",
              "      <th>96</th>\n",
              "      <td>96</td>\n",
              "      <td>30.318396</td>\n",
              "      <td>33.388335</td>\n",
              "      <td>32</td>\n",
              "      <td>5</td>\n",
              "      <td>10</td>\n",
              "    </tr>\n",
              "    <tr>\n",
              "      <th>97</th>\n",
              "      <td>97</td>\n",
              "      <td>36.218839</td>\n",
              "      <td>22.235766</td>\n",
              "      <td>32</td>\n",
              "      <td>4</td>\n",
              "      <td>14</td>\n",
              "    </tr>\n",
              "    <tr>\n",
              "      <th>98</th>\n",
              "      <td>98</td>\n",
              "      <td>42.936915</td>\n",
              "      <td>38.122442</td>\n",
              "      <td>28</td>\n",
              "      <td>7</td>\n",
              "      <td>5</td>\n",
              "    </tr>\n",
              "    <tr>\n",
              "      <th>99</th>\n",
              "      <td>99</td>\n",
              "      <td>19.590263</td>\n",
              "      <td>3.830284</td>\n",
              "      <td>24</td>\n",
              "      <td>2</td>\n",
              "      <td>11</td>\n",
              "    </tr>\n",
              "  </tbody>\n",
              "</table>\n",
              "<p>100 rows × 6 columns</p>\n",
              "</div>"
            ],
            "text/plain": [
              "    supply_point_index  x_coordinate  y_coordinate  total_parking_slots  \\\n",
              "0                    0     50.163110     19.412014                   23   \n",
              "1                    1     37.336451     58.119225                   27   \n",
              "2                    2     46.709232     57.525650                   31   \n",
              "3                    3     30.528626     55.379835                   26   \n",
              "4                    4     51.521781     35.116755                   32   \n",
              "..                 ...           ...           ...                  ...   \n",
              "95                  95     45.471204     20.999414                   24   \n",
              "96                  96     30.318396     33.388335                   32   \n",
              "97                  97     36.218839     22.235766                   32   \n",
              "98                  98     42.936915     38.122442                   28   \n",
              "99                  99     19.590263      3.830284                   24   \n",
              "\n",
              "    existing_num_SCS  existing_num_FCS  \n",
              "0                  5                 3  \n",
              "1                  4                 7  \n",
              "2                  6                14  \n",
              "3                  5                 5  \n",
              "4                 11                 6  \n",
              "..               ...               ...  \n",
              "95                 3                 4  \n",
              "96                 5                10  \n",
              "97                 4                14  \n",
              "98                 7                 5  \n",
              "99                 2                11  \n",
              "\n",
              "[100 rows x 6 columns]"
            ]
          },
          "execution_count": 34,
          "metadata": {},
          "output_type": "execute_result"
        }
      ],
      "source": [
        "infra_df = pd.read_csv('D:/shell hackathon 2022 github/Shell_Datathon_2022/data/exisiting_EV_infrastructure_2018.csv')\n",
        "infra_df"
      ]
    },
    {
      "cell_type": "code",
      "execution_count": 35,
      "metadata": {},
      "outputs": [],
      "source": [
        "cap_of_scs = 200\n",
        "cap_of_fcs = 400\n",
        "sdf = pd.DataFrame()\n",
        "sdf['smax'] = (cap_of_scs * infra_df['existing_num_SCS']) + (cap_of_fcs * infra_df['existing_num_FCS'])\n",
        "sdf[infra_df.columns] = infra_df[infra_df.columns]"
      ]
    },
    {
      "cell_type": "code",
      "execution_count": 36,
      "metadata": {},
      "outputs": [
        {
          "data": {
            "text/html": [
              "<div>\n",
              "<style scoped>\n",
              "    .dataframe tbody tr th:only-of-type {\n",
              "        vertical-align: middle;\n",
              "    }\n",
              "\n",
              "    .dataframe tbody tr th {\n",
              "        vertical-align: top;\n",
              "    }\n",
              "\n",
              "    .dataframe thead th {\n",
              "        text-align: right;\n",
              "    }\n",
              "</style>\n",
              "<table border=\"1\" class=\"dataframe\">\n",
              "  <thead>\n",
              "    <tr style=\"text-align: right;\">\n",
              "      <th></th>\n",
              "      <th>smax</th>\n",
              "      <th>supply_point_index</th>\n",
              "      <th>x_coordinate</th>\n",
              "      <th>y_coordinate</th>\n",
              "      <th>total_parking_slots</th>\n",
              "      <th>existing_num_SCS</th>\n",
              "      <th>existing_num_FCS</th>\n",
              "    </tr>\n",
              "  </thead>\n",
              "  <tbody>\n",
              "    <tr>\n",
              "      <th>0</th>\n",
              "      <td>2200</td>\n",
              "      <td>0</td>\n",
              "      <td>50.163110</td>\n",
              "      <td>19.412014</td>\n",
              "      <td>23</td>\n",
              "      <td>5</td>\n",
              "      <td>3</td>\n",
              "    </tr>\n",
              "    <tr>\n",
              "      <th>1</th>\n",
              "      <td>3600</td>\n",
              "      <td>1</td>\n",
              "      <td>37.336451</td>\n",
              "      <td>58.119225</td>\n",
              "      <td>27</td>\n",
              "      <td>4</td>\n",
              "      <td>7</td>\n",
              "    </tr>\n",
              "    <tr>\n",
              "      <th>2</th>\n",
              "      <td>6800</td>\n",
              "      <td>2</td>\n",
              "      <td>46.709232</td>\n",
              "      <td>57.525650</td>\n",
              "      <td>31</td>\n",
              "      <td>6</td>\n",
              "      <td>14</td>\n",
              "    </tr>\n",
              "    <tr>\n",
              "      <th>3</th>\n",
              "      <td>3000</td>\n",
              "      <td>3</td>\n",
              "      <td>30.528626</td>\n",
              "      <td>55.379835</td>\n",
              "      <td>26</td>\n",
              "      <td>5</td>\n",
              "      <td>5</td>\n",
              "    </tr>\n",
              "    <tr>\n",
              "      <th>4</th>\n",
              "      <td>4600</td>\n",
              "      <td>4</td>\n",
              "      <td>51.521781</td>\n",
              "      <td>35.116755</td>\n",
              "      <td>32</td>\n",
              "      <td>11</td>\n",
              "      <td>6</td>\n",
              "    </tr>\n",
              "    <tr>\n",
              "      <th>...</th>\n",
              "      <td>...</td>\n",
              "      <td>...</td>\n",
              "      <td>...</td>\n",
              "      <td>...</td>\n",
              "      <td>...</td>\n",
              "      <td>...</td>\n",
              "      <td>...</td>\n",
              "    </tr>\n",
              "    <tr>\n",
              "      <th>95</th>\n",
              "      <td>2200</td>\n",
              "      <td>95</td>\n",
              "      <td>45.471204</td>\n",
              "      <td>20.999414</td>\n",
              "      <td>24</td>\n",
              "      <td>3</td>\n",
              "      <td>4</td>\n",
              "    </tr>\n",
              "    <tr>\n",
              "      <th>96</th>\n",
              "      <td>5000</td>\n",
              "      <td>96</td>\n",
              "      <td>30.318396</td>\n",
              "      <td>33.388335</td>\n",
              "      <td>32</td>\n",
              "      <td>5</td>\n",
              "      <td>10</td>\n",
              "    </tr>\n",
              "    <tr>\n",
              "      <th>97</th>\n",
              "      <td>6400</td>\n",
              "      <td>97</td>\n",
              "      <td>36.218839</td>\n",
              "      <td>22.235766</td>\n",
              "      <td>32</td>\n",
              "      <td>4</td>\n",
              "      <td>14</td>\n",
              "    </tr>\n",
              "    <tr>\n",
              "      <th>98</th>\n",
              "      <td>3400</td>\n",
              "      <td>98</td>\n",
              "      <td>42.936915</td>\n",
              "      <td>38.122442</td>\n",
              "      <td>28</td>\n",
              "      <td>7</td>\n",
              "      <td>5</td>\n",
              "    </tr>\n",
              "    <tr>\n",
              "      <th>99</th>\n",
              "      <td>4800</td>\n",
              "      <td>99</td>\n",
              "      <td>19.590263</td>\n",
              "      <td>3.830284</td>\n",
              "      <td>24</td>\n",
              "      <td>2</td>\n",
              "      <td>11</td>\n",
              "    </tr>\n",
              "  </tbody>\n",
              "</table>\n",
              "<p>100 rows × 7 columns</p>\n",
              "</div>"
            ],
            "text/plain": [
              "    smax  supply_point_index  x_coordinate  y_coordinate  total_parking_slots  \\\n",
              "0   2200                   0     50.163110     19.412014                   23   \n",
              "1   3600                   1     37.336451     58.119225                   27   \n",
              "2   6800                   2     46.709232     57.525650                   31   \n",
              "3   3000                   3     30.528626     55.379835                   26   \n",
              "4   4600                   4     51.521781     35.116755                   32   \n",
              "..   ...                 ...           ...           ...                  ...   \n",
              "95  2200                  95     45.471204     20.999414                   24   \n",
              "96  5000                  96     30.318396     33.388335                   32   \n",
              "97  6400                  97     36.218839     22.235766                   32   \n",
              "98  3400                  98     42.936915     38.122442                   28   \n",
              "99  4800                  99     19.590263      3.830284                   24   \n",
              "\n",
              "    existing_num_SCS  existing_num_FCS  \n",
              "0                  5                 3  \n",
              "1                  4                 7  \n",
              "2                  6                14  \n",
              "3                  5                 5  \n",
              "4                 11                 6  \n",
              "..               ...               ...  \n",
              "95                 3                 4  \n",
              "96                 5                10  \n",
              "97                 4                14  \n",
              "98                 7                 5  \n",
              "99                 2                11  \n",
              "\n",
              "[100 rows x 7 columns]"
            ]
          },
          "execution_count": 36,
          "metadata": {},
          "output_type": "execute_result"
        }
      ],
      "source": [
        "sdf"
      ]
    },
    {
      "cell_type": "code",
      "execution_count": 37,
      "metadata": {
        "colab": {
          "base_uri": "https://localhost:8080/",
          "height": 424
        },
        "id": "P7uXv8-xPuv1",
        "outputId": "9e4e64d0-3d8d-41ff-d4d1-69b2a2515ef1"
      },
      "outputs": [
        {
          "data": {
            "text/html": [
              "<div>\n",
              "<style scoped>\n",
              "    .dataframe tbody tr th:only-of-type {\n",
              "        vertical-align: middle;\n",
              "    }\n",
              "\n",
              "    .dataframe tbody tr th {\n",
              "        vertical-align: top;\n",
              "    }\n",
              "\n",
              "    .dataframe thead th {\n",
              "        text-align: right;\n",
              "    }\n",
              "</style>\n",
              "<table border=\"1\" class=\"dataframe\">\n",
              "  <thead>\n",
              "    <tr style=\"text-align: right;\">\n",
              "      <th></th>\n",
              "      <th>Unnamed: 0</th>\n",
              "      <th>pred_2019</th>\n",
              "      <th>pred_2020</th>\n",
              "    </tr>\n",
              "  </thead>\n",
              "  <tbody>\n",
              "    <tr>\n",
              "      <th>0</th>\n",
              "      <td>0</td>\n",
              "      <td>15.539544</td>\n",
              "      <td>17.959517</td>\n",
              "    </tr>\n",
              "    <tr>\n",
              "      <th>1</th>\n",
              "      <td>1</td>\n",
              "      <td>13.160288</td>\n",
              "      <td>14.300485</td>\n",
              "    </tr>\n",
              "    <tr>\n",
              "      <th>2</th>\n",
              "      <td>2</td>\n",
              "      <td>17.232578</td>\n",
              "      <td>20.446903</td>\n",
              "    </tr>\n",
              "    <tr>\n",
              "      <th>3</th>\n",
              "      <td>3</td>\n",
              "      <td>17.185220</td>\n",
              "      <td>19.358138</td>\n",
              "    </tr>\n",
              "    <tr>\n",
              "      <th>4</th>\n",
              "      <td>4</td>\n",
              "      <td>21.079744</td>\n",
              "      <td>25.803925</td>\n",
              "    </tr>\n",
              "    <tr>\n",
              "      <th>...</th>\n",
              "      <td>...</td>\n",
              "      <td>...</td>\n",
              "      <td>...</td>\n",
              "    </tr>\n",
              "    <tr>\n",
              "      <th>4091</th>\n",
              "      <td>4091</td>\n",
              "      <td>6.572086</td>\n",
              "      <td>7.717979</td>\n",
              "    </tr>\n",
              "    <tr>\n",
              "      <th>4092</th>\n",
              "      <td>4092</td>\n",
              "      <td>2.936648</td>\n",
              "      <td>3.815846</td>\n",
              "    </tr>\n",
              "    <tr>\n",
              "      <th>4093</th>\n",
              "      <td>4093</td>\n",
              "      <td>4.293351</td>\n",
              "      <td>5.368183</td>\n",
              "    </tr>\n",
              "    <tr>\n",
              "      <th>4094</th>\n",
              "      <td>4094</td>\n",
              "      <td>7.079237</td>\n",
              "      <td>7.895901</td>\n",
              "    </tr>\n",
              "    <tr>\n",
              "      <th>4095</th>\n",
              "      <td>4095</td>\n",
              "      <td>7.819941</td>\n",
              "      <td>8.778943</td>\n",
              "    </tr>\n",
              "  </tbody>\n",
              "</table>\n",
              "<p>4096 rows × 3 columns</p>\n",
              "</div>"
            ],
            "text/plain": [
              "      Unnamed: 0  pred_2019  pred_2020\n",
              "0              0  15.539544  17.959517\n",
              "1              1  13.160288  14.300485\n",
              "2              2  17.232578  20.446903\n",
              "3              3  17.185220  19.358138\n",
              "4              4  21.079744  25.803925\n",
              "...          ...        ...        ...\n",
              "4091        4091   6.572086   7.717979\n",
              "4092        4092   2.936648   3.815846\n",
              "4093        4093   4.293351   5.368183\n",
              "4094        4094   7.079237   7.895901\n",
              "4095        4095   7.819941   8.778943\n",
              "\n",
              "[4096 rows x 3 columns]"
            ]
          },
          "execution_count": 37,
          "metadata": {},
          "output_type": "execute_result"
        }
      ],
      "source": [
        "tdf=pd.read_csv('D:/shell hackathon 2022 github/Shell_Datathon_2022/predictions/arima_pred_latest.csv')\n",
        "tdf"
      ]
    },
    {
      "cell_type": "code",
      "execution_count": 38,
      "metadata": {
        "colab": {
          "base_uri": "https://localhost:8080/"
        },
        "id": "1i4QVcAkZrWd",
        "outputId": "f35b6e22-288b-4543-ed7e-f1478c52a80f"
      },
      "outputs": [
        {
          "data": {
            "text/plain": [
              "(100,)"
            ]
          },
          "execution_count": 38,
          "metadata": {},
          "output_type": "execute_result"
        }
      ],
      "source": [
        "sdf['smax'].shape"
      ]
    },
    {
      "cell_type": "code",
      "execution_count": 39,
      "metadata": {
        "colab": {
          "base_uri": "https://localhost:8080/"
        },
        "id": "17wqwzN388dh",
        "outputId": "8cbb79b7-3a28-40be-baac-12d891450dd0"
      },
      "outputs": [],
      "source": [
        "x=[0]*4096\n",
        "for i in range(0,4096):\n",
        "  x[i]=[df.iloc[i,1],df.iloc[i,2]]\n",
        "x=np.array(x)\n",
        "# x\n",
        "y=[0]*100\n",
        "for j in range(0,100):\n",
        "  y[j]=[sdf.iloc[j,1],sdf.iloc[j,2]]\n",
        "y=np.array(y)\n",
        "# y"
      ]
    },
    {
      "cell_type": "code",
      "execution_count": 40,
      "metadata": {
        "id": "BJuTAvZ4Eaxi"
      },
      "outputs": [],
      "source": [
        "import numpy as np\n",
        "from scipy.spatial import distance_matrix\n",
        "dist = distance_matrix(x, y, p=2)"
      ]
    },
    {
      "cell_type": "code",
      "execution_count": 41,
      "metadata": {
        "colab": {
          "base_uri": "https://localhost:8080/"
        },
        "id": "sTgW1-c2rdYD",
        "outputId": "7e6dd090-e274-4e4c-cb1f-90a0a931782d"
      },
      "outputs": [
        {
          "name": "stdout",
          "output_type": "stream",
          "text": [
            "36.86697827717591 36.92118751191192\n"
          ]
        }
      ],
      "source": [
        "min_dist=np.copy(dist)\n",
        "print(dist[2][1],dist[3][1])"
      ]
    },
    {
      "cell_type": "code",
      "execution_count": 42,
      "metadata": {
        "colab": {
          "base_uri": "https://localhost:8080/"
        },
        "id": "yFVDxqT8rsj1",
        "outputId": "2c80ec9e-7ab0-4929-fbf4-21b99e474bcf"
      },
      "outputs": [
        {
          "name": "stdout",
          "output_type": "stream",
          "text": [
            "3.905959046830517\n",
            "66.16651420816879\n"
          ]
        }
      ],
      "source": [
        "min_row=min_dist.min(axis = 1)\n",
        "print(min_row[100])\n",
        "\n",
        "print(min_dist[101][92])"
      ]
    },
    {
      "cell_type": "code",
      "execution_count": 43,
      "metadata": {
        "id": "IXKm5N2728v8"
      },
      "outputs": [],
      "source": [
        "#descending sort\n",
        "\n",
        "for i in range(4096):\n",
        "  for j in range(100):\n",
        "    for k in range(j+1,100):\n",
        "      if min_dist[i][j]<min_dist[i][k]:\n",
        "        min_dist[i][j],min_dist[i][k]=min_dist[i][k],min_dist[i][j]"
      ]
    },
    {
      "cell_type": "code",
      "execution_count": 44,
      "metadata": {
        "id": "ju3oJNOlfHkv"
      },
      "outputs": [],
      "source": [
        "tps = np.asanyarray(sdf['total_parking_slots'])\n",
        "scs=np.asanyarray(sdf['existing_num_SCS'])\n",
        "fcs = np.asanyarray(sdf['existing_num_FCS'])\n",
        "smax=np.asanyarray(sdf['smax'])\n",
        "di=np.asanyarray(tdf['pred_2019'])\n",
        "di_desending = np.sort(di)[::-1]\n",
        "max_smax=[0]*100\n",
        "for i in range(100):\n",
        "  max_smax[i]=smax[i]+((tps[i]-(fcs[i]+scs[i]))*400)\n",
        "# rows, cols = (4096, 100)\n",
        "# ds= [[0]*cols]*rows\n",
        "ds= np.zeros(shape=(4096, 100), dtype=float)\n",
        "for i in range(4096):\n",
        "  for j in range(100):\n",
        "    if dist[i,j]==min_row[i]:\n",
        "      ds[i,j]=di[i]"
      ]
    },
    {
      "cell_type": "code",
      "execution_count": 46,
      "metadata": {
        "colab": {
          "base_uri": "https://localhost:8080/"
        },
        "id": "nlsHGo9I-_3I",
        "outputId": "705acccc-839b-4500-f7a6-8c5aafbee7c7"
      },
      "outputs": [],
      "source": [
        "# add=np.sum(ds,axis=1)\n",
        "# for i in range(4096):\n",
        "#   # print(add[i]-di[i])"
      ]
    },
    {
      "cell_type": "code",
      "execution_count": 47,
      "metadata": {
        "colab": {
          "base_uri": "https://localhost:8080/"
        },
        "id": "EmcIlCRVdu7b",
        "outputId": "6752e930-de19-489a-b5ac-bdfade2cf67b"
      },
      "outputs": [
        {
          "data": {
            "text/plain": [
              "0.0"
            ]
          },
          "execution_count": 47,
          "metadata": {},
          "output_type": "execute_result"
        }
      ],
      "source": [
        "ds[1][1]"
      ]
    },
    {
      "cell_type": "code",
      "execution_count": 48,
      "metadata": {
        "id": "l0QAAsdFcGh9"
      },
      "outputs": [],
      "source": [
        "new_ds=np.copy(ds)"
      ]
    },
    {
      "cell_type": "code",
      "execution_count": 50,
      "metadata": {
        "colab": {
          "base_uri": "https://localhost:8080/"
        },
        "id": "H-N2aXZJou7L",
        "outputId": "ed6c9c86-ab6e-4e03-d845-e373d41a9ccb"
      },
      "outputs": [],
      "source": [
        "# sum=np.sum(ds,axis=0)\n",
        "# for i in range(100):\n",
        "#   # print(sum[i]-max_smax[i])"
      ]
    },
    {
      "cell_type": "code",
      "execution_count": 51,
      "metadata": {
        "id": "AGHwJd9vdBy1"
      },
      "outputs": [],
      "source": [
        "# for i in range(100):\n",
        "#   if (sum[i]-max_smax[i])>0:\n",
        "    # print(sum[i]-max_smax[i],i)"
      ]
    },
    {
      "cell_type": "code",
      "execution_count": 52,
      "metadata": {
        "colab": {
          "base_uri": "https://localhost:8080/"
        },
        "id": "ZpyVXpCfVWyq",
        "outputId": "5e9d3e2b-12a7-4fa3-e146-e577f72845c2"
      },
      "outputs": [],
      "source": [
        "for j in range(100):\n",
        "  for i in range(4096):\n",
        "    if (sum[j]-max_smax[j])>0:\n",
        "      if ds[i,j]>0:\n",
        "        for k in range(100):\n",
        "          if dist[i,k]==min_dist[i,89] and (sum[k]-max_smax[k])<0:\n",
        "            #  print('ok')\n",
        "             v=ds[i,j]\n",
        "             ds[i,j]=0\n",
        "             sum[j]=sum[j]-v\n",
        "             ds[i,k]=v\n",
        "             sum[k]=sum[k]+v\n"
      ]
    },
    {
      "cell_type": "code",
      "execution_count": 53,
      "metadata": {
        "id": "Cs3oRmx2kUCd"
      },
      "outputs": [],
      "source": [
        "import math\n",
        "for i in range(0,100):\n",
        "   if (sum[i]-smax[i])>0:\n",
        "     a = sum[i]-smax[i]\n",
        "     if a>200 and (tps[i]-(fcs[i]+scs[i]))>0:\n",
        "       count_fcs = math.ceil(a/400)\n",
        "       if((count_fcs*400)-a)>=200:\n",
        "         count_fcs=count_fcs-1\n",
        "         count_scs=1\n",
        "         count=(count_fcs+count_scs)\n",
        "         if count<=(tps[i]-(fcs[i]+scs[i])):\n",
        "            fcs[i]+=count_fcs\n",
        "            scs[i]+=count_scs\n",
        "            a=a-((count_fcs*400)+(count_scs*200))\n",
        "         else:\n",
        "           count_fcs+=1\n",
        "       if ((count_fcs*400)-a)<200:\n",
        "         count=count_fcs\n",
        "         if count<=(tps[i]-(fcs[i]+scs[i])):\n",
        "            fcs[i]+=count\n",
        "            a=a-(count*400)\n",
        "     if a<=200 and(tps[i]-(fcs[i]+scs[i]))>0:\n",
        "       count = math.ceil(a/200)\n",
        "       if count<=(tps[i]-(fcs[i]+scs[i])):\n",
        "         scs[i]+=count\n",
        "         a=a-(count*200)\n",
        "#    print(a)\n"
      ]
    },
    {
      "cell_type": "code",
      "execution_count": 55,
      "metadata": {
        "colab": {
          "base_uri": "https://localhost:8080/"
        },
        "id": "81NCrMS43-Ea",
        "outputId": "9f7ba784-613e-49a7-bf47-87ff7425abb0"
      },
      "outputs": [],
      "source": [
        "# for i in range(0,100):\n",
        "#   smax[i]=((400*fcs[i])+(200*scs[i]))\n",
        "# for j in range(0,100):\n",
        "#   if (sum[j]-smax[j])<=0:\n",
        "    # print(sum[j]-smax[j],tps[j]-(fcs[j]+scs[j]),tps[j],scs[j],fcs[j])"
      ]
    },
    {
      "cell_type": "code",
      "execution_count": 56,
      "metadata": {
        "id": "zsBm1Mb3yAv1"
      },
      "outputs": [],
      "source": [
        "demand_point=[]\n",
        "supply_point=[]\n",
        "value=[]\n",
        "for i in range(4096):\n",
        "  for j in range(100):\n",
        "    demand_point.append(i)\n",
        "    supply_point.append(j)\n",
        "    value.append(ds[i][j])\n"
      ]
    },
    {
      "cell_type": "code",
      "execution_count": 57,
      "metadata": {
        "id": "ck7KX7_Tznbd"
      },
      "outputs": [],
      "source": [
        "len(supply_point)\n",
        "data_type=['DS']*409600\n",
        "year=['2019']*409600"
      ]
    },
    {
      "cell_type": "code",
      "execution_count": 58,
      "metadata": {
        "id": "Stf-qrMO0Dfh"
      },
      "outputs": [],
      "source": [
        "gdf=pd.DataFrame(demand_point,columns=['demand_point'])\n",
        "gdf['data_type']=data_type\n",
        "gdf['supply_point']=supply_point\n",
        "gdf['value']=value\n",
        "gdf['year']=year\n",
        "# gdf.to_csv('/content/arima_2019_ds.csv')"
      ]
    },
    {
      "cell_type": "code",
      "execution_count": 59,
      "metadata": {
        "id": "syE7K1qIR840"
      },
      "outputs": [],
      "source": [
        "year=['2019']*200"
      ]
    },
    {
      "cell_type": "code",
      "execution_count": 60,
      "metadata": {
        "colab": {
          "base_uri": "https://localhost:8080/",
          "height": 424
        },
        "id": "x2jxhBHK8PlH",
        "outputId": "1d849b4a-560c-420f-c92a-2748e13d765d"
      },
      "outputs": [
        {
          "data": {
            "text/html": [
              "<div>\n",
              "<style scoped>\n",
              "    .dataframe tbody tr th:only-of-type {\n",
              "        vertical-align: middle;\n",
              "    }\n",
              "\n",
              "    .dataframe tbody tr th {\n",
              "        vertical-align: top;\n",
              "    }\n",
              "\n",
              "    .dataframe thead th {\n",
              "        text-align: right;\n",
              "    }\n",
              "</style>\n",
              "<table border=\"1\" class=\"dataframe\">\n",
              "  <thead>\n",
              "    <tr style=\"text-align: right;\">\n",
              "      <th></th>\n",
              "      <th>data_type</th>\n",
              "      <th>suppy_point</th>\n",
              "      <th>value</th>\n",
              "      <th>year</th>\n",
              "    </tr>\n",
              "  </thead>\n",
              "  <tbody>\n",
              "    <tr>\n",
              "      <th>0</th>\n",
              "      <td>SCS</td>\n",
              "      <td>0</td>\n",
              "      <td>5</td>\n",
              "      <td>2019</td>\n",
              "    </tr>\n",
              "    <tr>\n",
              "      <th>1</th>\n",
              "      <td>SCS</td>\n",
              "      <td>1</td>\n",
              "      <td>4</td>\n",
              "      <td>2019</td>\n",
              "    </tr>\n",
              "    <tr>\n",
              "      <th>2</th>\n",
              "      <td>SCS</td>\n",
              "      <td>2</td>\n",
              "      <td>6</td>\n",
              "      <td>2019</td>\n",
              "    </tr>\n",
              "    <tr>\n",
              "      <th>3</th>\n",
              "      <td>SCS</td>\n",
              "      <td>3</td>\n",
              "      <td>5</td>\n",
              "      <td>2019</td>\n",
              "    </tr>\n",
              "    <tr>\n",
              "      <th>4</th>\n",
              "      <td>SCS</td>\n",
              "      <td>4</td>\n",
              "      <td>11</td>\n",
              "      <td>2019</td>\n",
              "    </tr>\n",
              "    <tr>\n",
              "      <th>...</th>\n",
              "      <td>...</td>\n",
              "      <td>...</td>\n",
              "      <td>...</td>\n",
              "      <td>...</td>\n",
              "    </tr>\n",
              "    <tr>\n",
              "      <th>195</th>\n",
              "      <td>FCS</td>\n",
              "      <td>95</td>\n",
              "      <td>4</td>\n",
              "      <td>2019</td>\n",
              "    </tr>\n",
              "    <tr>\n",
              "      <th>196</th>\n",
              "      <td>FCS</td>\n",
              "      <td>96</td>\n",
              "      <td>10</td>\n",
              "      <td>2019</td>\n",
              "    </tr>\n",
              "    <tr>\n",
              "      <th>197</th>\n",
              "      <td>FCS</td>\n",
              "      <td>97</td>\n",
              "      <td>14</td>\n",
              "      <td>2019</td>\n",
              "    </tr>\n",
              "    <tr>\n",
              "      <th>198</th>\n",
              "      <td>FCS</td>\n",
              "      <td>98</td>\n",
              "      <td>5</td>\n",
              "      <td>2019</td>\n",
              "    </tr>\n",
              "    <tr>\n",
              "      <th>199</th>\n",
              "      <td>FCS</td>\n",
              "      <td>99</td>\n",
              "      <td>11</td>\n",
              "      <td>2019</td>\n",
              "    </tr>\n",
              "  </tbody>\n",
              "</table>\n",
              "<p>200 rows × 4 columns</p>\n",
              "</div>"
            ],
            "text/plain": [
              "    data_type  suppy_point  value  year\n",
              "0         SCS            0      5  2019\n",
              "1         SCS            1      4  2019\n",
              "2         SCS            2      6  2019\n",
              "3         SCS            3      5  2019\n",
              "4         SCS            4     11  2019\n",
              "..        ...          ...    ...   ...\n",
              "195       FCS           95      4  2019\n",
              "196       FCS           96     10  2019\n",
              "197       FCS           97     14  2019\n",
              "198       FCS           98      5  2019\n",
              "199       FCS           99     11  2019\n",
              "\n",
              "[200 rows x 4 columns]"
            ]
          },
          "execution_count": 60,
          "metadata": {},
          "output_type": "execute_result"
        }
      ],
      "source": [
        "list=[]\n",
        "list2=[]\n",
        "list3=[]\n",
        "for i in range(100):\n",
        "  list.append(scs[i])\n",
        "  list3.append(i)\n",
        "  list2.append('SCS')\n",
        "for k in range(100):\n",
        "  list.append(fcs[k])\n",
        "  list3.append(k)\n",
        "  list2.append('FCS')\n",
        "hdf=pd.DataFrame(list2,columns=['data_type'])\n",
        "hdf['suppy_point']=list3\n",
        "hdf['value']=list\n",
        "hdf['year']=year\n",
        "hdf"
      ]
    },
    {
      "cell_type": "code",
      "execution_count": null,
      "metadata": {
        "id": "D5ybLYsd-rzW"
      },
      "outputs": [],
      "source": [
        "# hdf.to_csv('/content/arima_2019_cs.csv')"
      ]
    },
    {
      "cell_type": "code",
      "execution_count": null,
      "metadata": {
        "id": "luBvd23GByZk"
      },
      "outputs": [],
      "source": [
        "# pdf=pd.DataFrame(scs,columns=['scs'])\n",
        "# pdf['fcs']=fcs\n",
        "# pdf['tps']=tps\n",
        "# pdf['smax_2019']=smax\n",
        "# pdf.to_csv('/content/arima_2019_smax.csv')"
      ]
    },
    {
      "cell_type": "code",
      "execution_count": 61,
      "metadata": {
        "colab": {
          "base_uri": "https://localhost:8080/",
          "height": 424
        },
        "id": "qUokzz3QWXBU",
        "outputId": "70aac322-8f3d-4628-f207-48d11e78a18a"
      },
      "outputs": [],
      "source": [
        "# mdf=pd.read_csv('/content/2019_cs.csv')\n",
        "# mdf"
      ]
    },
    {
      "cell_type": "code",
      "execution_count": 62,
      "metadata": {
        "colab": {
          "base_uri": "https://localhost:8080/"
        },
        "id": "gX0Nb0FmWmvM",
        "outputId": "6af21a65-2ece-489c-9985-31bd99e94913"
      },
      "outputs": [],
      "source": [
        "# for i in range(200):\n",
        "#   print(mdf['value'][i]-hdf['value'][i])"
      ]
    },
    {
      "cell_type": "code",
      "execution_count": 63,
      "metadata": {
        "colab": {
          "base_uri": "https://localhost:8080/",
          "height": 424
        },
        "id": "OrKBjL7Md5rm",
        "outputId": "b642f485-9dcb-4977-fc43-f96d6b98c861"
      },
      "outputs": [],
      "source": [
        "# jdf=pd.read_csv('/content/new_2019_cs.csv')\n",
        "# jdf"
      ]
    }
  ],
  "metadata": {
    "colab": {
      "provenance": []
    },
    "kernelspec": {
      "display_name": "Python 3",
      "name": "python3"
    },
    "language_info": {
      "codemirror_mode": {
        "name": "ipython",
        "version": 3
      },
      "file_extension": ".py",
      "mimetype": "text/x-python",
      "name": "python",
      "nbconvert_exporter": "python",
      "pygments_lexer": "ipython3",
      "version": "3.9.5"
    }
  },
  "nbformat": 4,
  "nbformat_minor": 0
}
